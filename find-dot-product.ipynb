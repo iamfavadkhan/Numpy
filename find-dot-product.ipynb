{
 "cells": [
  {
   "cell_type": "code",
   "execution_count": 7,
   "id": "55a1e112",
   "metadata": {},
   "outputs": [
    {
     "name": "stdout",
     "output_type": "stream",
     "text": [
      "Cos Theta is :0.9688639316269662\n",
      "The angle in radian is :0.25019592042251176\n",
      "The angle in degree is :14.335170291600924\n"
     ]
    }
   ],
   "source": [
    "import numpy as np\n",
    "\n",
    "a = np.array([1,2,3,4])\n",
    "b = np.array([5,6,7,8])\n",
    "\n",
    "dot_product = np.dot(a , b) #This will print the dot product\n",
    "a_norm = np.linalg.norm(a)\n",
    "b_norm = np.linalg.norm(b)\n",
    "\n",
    "cos_theta = dot_product / (a_norm * b_norm)\n",
    "\n",
    "angle_rad = np.arccos(cos_theta)\n",
    "angle_deg = np.degrees(angle_rad)\n",
    "\n",
    "print(f\"Cos Theta is :{cos_theta}\")\n",
    "print(f\"The angle in radian is :{angle_rad}\")\n",
    "print(f\"The angle in degree is :{angle_deg}\")"
   ]
  }
 ],
 "metadata": {
  "kernelspec": {
   "display_name": "Python 3",
   "language": "python",
   "name": "python3"
  },
  "language_info": {
   "codemirror_mode": {
    "name": "ipython",
    "version": 3
   },
   "file_extension": ".py",
   "mimetype": "text/x-python",
   "name": "python",
   "nbconvert_exporter": "python",
   "pygments_lexer": "ipython3",
   "version": "3.13.5"
  }
 },
 "nbformat": 4,
 "nbformat_minor": 5
}
