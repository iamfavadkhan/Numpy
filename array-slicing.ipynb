{
 "cells": [
  {
   "cell_type": "code",
   "execution_count": 14,
   "id": "774545e3",
   "metadata": {},
   "outputs": [
    {
     "name": "stdout",
     "output_type": "stream",
     "text": [
      "Array in flattened form :[ 0  1  2  3  4  5  6  7  8  9 10 11 12 13 14 15 16 17 18 19]\n",
      "Array in 4 x 5 form : \n",
      "[[ 0  1  2  3  4]\n",
      " [ 5  6  7  8  9]\n",
      " [10 11 12 13 14]\n",
      " [15 16 17 18 19]]\n",
      "Dimensions of the Array is : 2\n",
      "The middle 2x3 block of the above array :\n",
      "[[ 5  6  7  8]\n",
      " [10 11 12 13]]\n"
     ]
    }
   ],
   "source": [
    "# Task:\n",
    "# Create a 4x5 array of numbers from 1 to 20 using reshape.\n",
    "# Slice the middle 2x3 block.\n",
    "\n",
    "import numpy as np\n",
    "arr = np.arange(20)\n",
    "print(f\"Array in flattened form :{arr}\")\n",
    "reshaped = arr.reshape(4,5)\n",
    "print(f\"Array in 4 x 5 form : \\n{reshaped}\")\n",
    "print(f\"Dimensions of the Array is : {reshaped.ndim}\")\n",
    "block = reshaped[1:3,0:4]\n",
    "print(f\"The middle 2x3 block of the above array :\\n{block}\")"
   ]
  }
 ],
 "metadata": {
  "kernelspec": {
   "display_name": "Python 3",
   "language": "python",
   "name": "python3"
  },
  "language_info": {
   "codemirror_mode": {
    "name": "ipython",
    "version": 3
   },
   "file_extension": ".py",
   "mimetype": "text/x-python",
   "name": "python",
   "nbconvert_exporter": "python",
   "pygments_lexer": "ipython3",
   "version": "3.13.5"
  }
 },
 "nbformat": 4,
 "nbformat_minor": 5
}
