{
 "cells": [
  {
   "cell_type": "markdown",
   "id": "1b284389",
   "metadata": {},
   "source": [
    "###Numpy Arrays operation"
   ]
  },
  {
   "cell_type": "code",
   "execution_count": 4,
   "id": "a52e16b9",
   "metadata": {},
   "outputs": [],
   "source": [
    "import numpy as np"
   ]
  },
  {
   "cell_type": "code",
   "execution_count": 5,
   "id": "bfb89650",
   "metadata": {},
   "outputs": [
    {
     "name": "stdout",
     "output_type": "stream",
     "text": [
      "[ 1  2  3  4  5  6  7  8  9 10]\n",
      "[ 4  5  6  7  8  9 10]\n",
      "[1 2 3 4]\n",
      "8\n",
      "[4 5 6 7 8]\n"
     ]
    }
   ],
   "source": [
    "#Basic Slicing\n",
    "arr = np.array([1,2,3,4,5,6,7,8,9,10])\n",
    "print(arr[:])  #will print all elements present in the array\n",
    "print(arr[3:]) #will print all elements after index 3\n",
    "print(arr[:4]) #wiill print all elements from start to index 4 but not included index 4 \n",
    "print(arr[-3]) #will print element no subtract from the total index\n",
    "print(arr[-7:-2]) #will print elements from index 10 - 7 to index 10 - 2"
   ]
  },
  {
   "cell_type": "markdown",
   "id": "a2bfe7d0",
   "metadata": {},
   "source": [
    "###Slicing on 2D arrays"
   ]
  },
  {
   "cell_type": "code",
   "execution_count": 6,
   "id": "21db52ab",
   "metadata": {},
   "outputs": [
    {
     "name": "stdout",
     "output_type": "stream",
     "text": [
      "5\n",
      "[2 5]\n",
      "[[1 2 3]\n",
      " [4 5 6]]\n",
      "[4 5 6]\n"
     ]
    }
   ],
   "source": [
    "arr_2D = np.array([[1,2,3],[4,5,6]])\n",
    "print(arr_2D[1,1]) #will print the element no 2 in the row 2\n",
    "print(arr_2D[:,1]) #will print all the elements 2's of all the rows\n",
    "print(arr_2D[0:,]) #will print all the elements of rows from index 0 to onwords\n",
    "print(arr_2D[1]) #will print all the elements of row no 2"
   ]
  },
  {
   "cell_type": "markdown",
   "id": "72e6e1ba",
   "metadata": {},
   "source": [
    "###Sorting on Arrays"
   ]
  },
  {
   "cell_type": "code",
   "execution_count": 7,
   "id": "fd34f894",
   "metadata": {},
   "outputs": [
    {
     "name": "stdout",
     "output_type": "stream",
     "text": [
      "Unsorted array :[  1   3   4   5   6   7   5  43  89   8 643  23  45  67]\n",
      "Sorted array :[  1   3   4   5   5   6   7   8  23  43  45  67  89 643]\n"
     ]
    }
   ],
   "source": [
    "unsorted_array = np.array([1,3,4,5,6,7,5,43,89,8,643,23,45,67])\n",
    "sorted = np.sort(unsorted_array)\n",
    "print(f\"Unsorted array :{unsorted_array}\")\n",
    "print(f\"Sorted array :{sorted}\")"
   ]
  },
  {
   "cell_type": "markdown",
   "id": "0bcf26dd",
   "metadata": {},
   "source": [
    "###Sorting on 2D Arrays"
   ]
  },
  {
   "cell_type": "code",
   "execution_count": 8,
   "id": "51fa8131",
   "metadata": {},
   "outputs": [
    {
     "name": "stdout",
     "output_type": "stream",
     "text": [
      "unsorted Array is :\n",
      "[[1 3 4 2]\n",
      " [6 7 8 5]\n",
      " [2 1 3 5]]\n",
      "Array after sorted in axis of coloumns : \n",
      "[[1 1 3 2]\n",
      " [2 3 4 5]\n",
      " [6 7 8 5]]\n",
      "\n",
      "\n",
      "unsorted Array is :\n",
      "[[1 3 4 2]\n",
      " [6 7 8 5]\n",
      " [2 1 3 5]]\n",
      "Array after sorted in the axis of rows : \n",
      "[[1 2 3 4]\n",
      " [5 6 7 8]\n",
      " [1 2 3 5]]\n"
     ]
    }
   ],
   "source": [
    "unsorted_arr = np.array([[1,3,4,2],[6,7,8,5],[2,1,3,5]])\n",
    "sorted_arr = np.sort(unsorted_arr , axis=0)\n",
    "print(f\"unsorted Array is :\\n{unsorted_arr}\")\n",
    "print(f\"Array after sorted in axis of coloumns : \\n{sorted_arr}\")\n",
    "\n",
    "print(\"\\n\")\n",
    "\n",
    "unsorted_arr = np.array([[1,3,4,2],[6,7,8,5],[2,1,3,5]])\n",
    "sorted_arr = np.sort(unsorted_arr , axis=1)\n",
    "print(f\"unsorted Array is :\\n{unsorted_arr}\")\n",
    "print(f\"Array after sorted in the axis of rows : \\n{sorted_arr}\")"
   ]
  },
  {
   "cell_type": "markdown",
   "id": "5e257fa4",
   "metadata": {},
   "source": [
    "###Filtering Arrays"
   ]
  },
  {
   "cell_type": "code",
   "execution_count": 9,
   "id": "fae72877",
   "metadata": {},
   "outputs": [
    {
     "name": "stdout",
     "output_type": "stream",
     "text": [
      "Even numbers are [ 2  4  6  8 10]\n",
      "Odd numbers are [1 3 5 7 9]\n"
     ]
    }
   ],
   "source": [
    "#It's like applying conditions on arrays such as following\n",
    "arr = np.array([1,2,3,4,5,6,7,8,9,10])\n",
    "even_numbers = arr[arr%2==0]\n",
    "print(f\"Even numbers are {even_numbers}\")\n",
    "\n",
    "odd_numbers = arr[arr%2!=0]\n",
    "print(f\"Odd numbers are {odd_numbers}\")"
   ]
  },
  {
   "cell_type": "markdown",
   "id": "dd60e87b",
   "metadata": {},
   "source": [
    "###Filter with Mask method"
   ]
  },
  {
   "cell_type": "code",
   "execution_count": 10,
   "id": "0f45f5cb",
   "metadata": {},
   "outputs": [
    {
     "name": "stdout",
     "output_type": "stream",
     "text": [
      "Numbers greater than are given as [ 6  7  8  9 10]\n",
      "Even numbers are [ 2  4  6  8 10]\n"
     ]
    }
   ],
   "source": [
    "arr = np.array([1,2,3,4,5,6,7,8,9,10])\n",
    "mask1 = arr > 5\n",
    "mask2 = arr % 2 == 0\n",
    "print(f\"Numbers greater than are given as {arr[mask1]}\")\n",
    "print(f\"Even numbers are {arr[mask2]}\")"
   ]
  },
  {
   "cell_type": "markdown",
   "id": "65c726c6",
   "metadata": {},
   "source": [
    "###Fancy Indexing vs np.where()"
   ]
  },
  {
   "cell_type": "code",
   "execution_count": null,
   "id": "d2c6ab55",
   "metadata": {},
   "outputs": [
    {
     "name": "stdout",
     "output_type": "stream",
     "text": [
      "[1 3 5]\n",
      "(array([5, 6, 7, 8, 9]),)\n",
      "NP where numbers [ 6  7  8  9 10]\n"
     ]
    }
   ],
   "source": [
    "numbers = np.array([1,2,3,4,5,6,7,8,9,10])\n",
    "indices = [0,2,4]#it means print the numbers at index 0 , 2 and 4\n",
    "print(numbers[indices])\n",
    "\n",
    "where_result = np.where(numbers>5)#it also work as a condition\n",
    "print(where_result)\n",
    "print(f\"NP where numbers {numbers[where_result]}\" )"
   ]
  },
  {
   "cell_type": "markdown",
   "id": "0d6bc08f",
   "metadata": {},
   "source": [
    "###Conditionals Arrays"
   ]
  },
  {
   "cell_type": "code",
   "execution_count": null,
   "id": "80b2be1c",
   "metadata": {},
   "outputs": [
    {
     "name": "stdout",
     "output_type": "stream",
     "text": [
      "['False' 'False' 'False' 'False' 'False' '12' '14' '16' '18' '20']\n",
      "False\n"
     ]
    }
   ],
   "source": [
    "nums = np.array([1,2,3,4,5,6,7,8,9,10])\n",
    "conditional_array = np.where(nums > 5 , nums*2 , \"False\")\n",
    "print(conditional_array)\n",
    "\n",
    "#or\n"
   ]
  },
  {
   "cell_type": "markdown",
   "id": "da484f3b",
   "metadata": {},
   "source": [
    "###Adding and Removing data to Arrrays"
   ]
  },
  {
   "cell_type": "code",
   "execution_count": 23,
   "id": "1b52ac2c",
   "metadata": {},
   "outputs": [
    {
     "name": "stdout",
     "output_type": "stream",
     "text": [
      "Union of the array1 and array 2 is : [ 1  2  3  4  5  6  7  8  9 10]\n"
     ]
    }
   ],
   "source": [
    "arr1 = np.array([1,2,3,4,5])\n",
    "arr2 = np.array([6,7,8,9,10])\n",
    "union = np.concatenate([arr1, arr2])\n",
    "print(f\"Union of the array1 and array 2 is : {union}\")"
   ]
  },
  {
   "cell_type": "markdown",
   "id": "581cd474",
   "metadata": {},
   "source": [
    "###Arrays Compatibility"
   ]
  },
  {
   "cell_type": "code",
   "execution_count": null,
   "id": "405dd80a",
   "metadata": {},
   "outputs": [
    {
     "name": "stdout",
     "output_type": "stream",
     "text": [
      "Shape Compatibility : False\n"
     ]
    }
   ],
   "source": [
    "a = np.array([1,2,3,4,5])\n",
    "b = np.array([5,3,3,2,2,6])\n",
    "print(f\"Shape Compatibility : {a.shape == b.shape}\")#if the condition is true it print true otherwise it print false"
   ]
  },
  {
   "cell_type": "markdown",
   "id": "37bb8bc6",
   "metadata": {},
   "source": [
    "###Added new rows to original array"
   ]
  },
  {
   "cell_type": "code",
   "execution_count": 39,
   "id": "a51a2494",
   "metadata": {},
   "outputs": [
    {
     "name": "stdout",
     "output_type": "stream",
     "text": [
      "Row is added horizantily \n",
      "[[1 2 3 4]\n",
      " [4 3 2 1]\n",
      " [8 9 7 6]]\n",
      "Coloumns is added vertically : \n",
      "[[ 1  2  3  4 11 22]\n",
      " [ 4  3  2  1 33 44]]\n"
     ]
    }
   ],
   "source": [
    "original_array = np.array([[1,2,3,4],[4,3,2,1]])\n",
    "new_row = np.array([8,9,7,6])\n",
    "with_new_row = np.vstack((original_array,new_row))\n",
    "print(f\"Row is added horizantily \\n{with_new_row}\")\n",
    "\n",
    "\n",
    "new_col = np.array([[11,22],[33,44]])\n",
    "with_new_col = np.hstack((original_array, new_col))\n",
    "print(f\"Coloumns is added vertically : \\n{with_new_col}\")\n",
    "\n"
   ]
  },
  {
   "cell_type": "markdown",
   "id": "d5bd94f6",
   "metadata": {},
   "source": [
    "###Delete an Array"
   ]
  },
  {
   "cell_type": "code",
   "execution_count": null,
   "id": "8cb518ba",
   "metadata": {},
   "outputs": [
    {
     "name": "stdout",
     "output_type": "stream",
     "text": [
      "[1 2 3 5]\n"
     ]
    }
   ],
   "source": [
    "arr = np.array([1,2,3,4,5])\n",
    "deleted = np.delete(arr,3) #it will delete number at index 3 in array\n",
    "print(deleted)"
   ]
  }
 ],
 "metadata": {
  "kernelspec": {
   "display_name": "Python 3",
   "language": "python",
   "name": "python3"
  },
  "language_info": {
   "codemirror_mode": {
    "name": "ipython",
    "version": 3
   },
   "file_extension": ".py",
   "mimetype": "text/x-python",
   "name": "python",
   "nbconvert_exporter": "python",
   "pygments_lexer": "ipython3",
   "version": "3.13.5"
  }
 },
 "nbformat": 4,
 "nbformat_minor": 5
}
