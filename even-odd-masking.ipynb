{
 "cells": [
  {
   "cell_type": "code",
   "execution_count": 4,
   "id": "cdcb74d9",
   "metadata": {},
   "outputs": [
    {
     "name": "stdout",
     "output_type": "stream",
     "text": [
      "Even numbers in the array are [ 0  2  4  6  8 10 12 14 16 18]\n",
      "Odd numbers in the array are [ 1  3  5  7  9 11 13 15 17 19]\n"
     ]
    }
   ],
   "source": [
    "# Task:\n",
    "# Create a 1D NumPy array of numbers from 1 to 20.\n",
    "# Use Boolean masking to get all even numbers.\n",
    "\n",
    "import numpy as np\n",
    "\n",
    "arr = np.arange(20)\n",
    "mask1 = arr%2==0\n",
    "mask2 = arr%2!=0\n",
    "print(f\"Even numbers in the array are {arr[mask1]}\")\n",
    "print(f\"Odd numbers in the array are {arr[mask2]}\")"
   ]
  }
 ],
 "metadata": {
  "kernelspec": {
   "display_name": "Python 3",
   "language": "python",
   "name": "python3"
  },
  "language_info": {
   "codemirror_mode": {
    "name": "ipython",
    "version": 3
   },
   "file_extension": ".py",
   "mimetype": "text/x-python",
   "name": "python",
   "nbconvert_exporter": "python",
   "pygments_lexer": "ipython3",
   "version": "3.13.5"
  }
 },
 "nbformat": 4,
 "nbformat_minor": 5
}
