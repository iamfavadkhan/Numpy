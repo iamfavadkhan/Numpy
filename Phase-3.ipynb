{
 "cells": [
  {
   "cell_type": "markdown",
   "id": "f44d0c87",
   "metadata": {},
   "source": [
    "###Basic Data Operations"
   ]
  },
  {
   "cell_type": "code",
   "execution_count": null,
   "id": "c771e247",
   "metadata": {
    "vscode": {
     "languageId": "plaintext"
    }
   },
   "outputs": [],
   "source": [
    "import numpy as np\n"
   ]
  }
 ],
 "metadata": {
  "language_info": {
   "name": "python"
  }
 },
 "nbformat": 4,
 "nbformat_minor": 5
}
