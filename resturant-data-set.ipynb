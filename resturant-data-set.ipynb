{
 "cells": [
  {
   "cell_type": "code",
   "execution_count": 1,
   "id": "5b057f2f",
   "metadata": {},
   "outputs": [
    {
     "name": "stdout",
     "output_type": "stream",
     "text": [
      "Avg : 185.0\n",
      "Total sales of each resturant year wise is: [ 735 1020  470 1600  800]\n",
      "Highest sale in the 2023 is: 340\n",
      "The difference between resturant sales of 2019 and 2023 is : [ 35 -10 -15  20]\n",
      "Restaurants with increasing sales: (array([0, 2]),)\n"
     ]
    }
   ],
   "source": [
    "# Example Tasks You Can Practice\n",
    "# Get total sales for each restaurant over 5 years\n",
    "# Find restaurant with the highest sales in 2023\n",
    "# Calculate year-wise total or average sales\n",
    "# Find the difference in sales between 2019 and 2023 for all restaurants\n",
    "# Find which restaurants had increasing sales every year\n",
    "\n",
    "import numpy as np\n",
    "\n",
    "# Restaurant IDs (for reference)\n",
    "restaurant_ids = np.array([101, 102, 103, 104, 105])\n",
    "\n",
    "# Sales data from 2019 to 2023 (in $1000s)\n",
    "# Shape: (5 restaurants, 5 years)\n",
    "sales_data = np.array([\n",
    "    [120, 135, 150, 160, 170],  # Restaurant 101\n",
    "    [200, 210, 190, 205, 215],  # Restaurant 102\n",
    "    [80,  90,  95, 100, 105],   # Restaurant 103\n",
    "    [300, 320, 310, 330, 340],  # Restaurant 104\n",
    "    [150, 160, 155, 165, 170]   # Restaurant 105\n",
    "])\n",
    "\n",
    "difference = np.diff(sales_data[0:, 0] - sales_data[0:, 4], axis=0)\n",
    "diff = np.diff(sales_data, axis=1)\n",
    "increasing_restaurants = np.all(diff > 0, axis=1)\n",
    "restaurant_indices = np.where(increasing_restaurants)\n",
    "avg = np.mean(sales_data)\n",
    "print(f\"Avg : {avg}\")\n",
    "\n",
    "yearly_sale = np.sum(sales_data[:,0:] , axis=1)\n",
    "high_sales_23 = np.max(sales_data[:,4:])\n",
    "print(f\"Total sales of each resturant year wise is: {yearly_sale}\")\n",
    "print(f\"Highest sale in the 2023 is: {high_sales_23}\")\n",
    "print(f\"The difference between resturant sales of 2019 and 2023 is : {difference}\")\n",
    "print(\"Restaurants with increasing sales:\", restaurant_indices)"
   ]
  }
 ],
 "metadata": {
  "kernelspec": {
   "display_name": "Python 3",
   "language": "python",
   "name": "python3"
  },
  "language_info": {
   "codemirror_mode": {
    "name": "ipython",
    "version": 3
   },
   "file_extension": ".py",
   "mimetype": "text/x-python",
   "name": "python",
   "nbconvert_exporter": "python",
   "pygments_lexer": "ipython3",
   "version": "3.13.5"
  }
 },
 "nbformat": 4,
 "nbformat_minor": 5
}
