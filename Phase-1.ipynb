{
 "cells": [
  {
   "cell_type": "markdown",
   "id": "68be6cdc",
   "metadata": {},
   "source": [
    "##Creating Arrrays from Scratch"
   ]
  },
  {
   "cell_type": "code",
   "execution_count": 72,
   "id": "d0330dcf",
   "metadata": {},
   "outputs": [
    {
     "name": "stdout",
     "output_type": "stream",
     "text": [
      "[1 2 3 4 5]\n"
     ]
    }
   ],
   "source": [
    "import numpy as np\n",
    "arr = np.array([1, 2, 3, 4, 5]) \n",
    "print(arr)"
   ]
  },
  {
   "cell_type": "code",
   "execution_count": 73,
   "id": "2d090618",
   "metadata": {},
   "outputs": [
    {
     "name": "stdout",
     "output_type": "stream",
     "text": [
      "Zeroa Array are :\n",
      "[[0. 0. 0.]\n",
      " [0. 0. 0.]\n",
      " [0. 0. 0.]]\n"
     ]
    }
   ],
   "source": [
    "#zeros array\n",
    "zeros = np.zeros((3,3))\n",
    "print(f\"Zeroa Array are :\\n{zeros}\")"
   ]
  },
  {
   "cell_type": "code",
   "execution_count": 74,
   "id": "c01e2ca8",
   "metadata": {},
   "outputs": [
    {
     "name": "stdout",
     "output_type": "stream",
     "text": [
      "Ones Array are :\n",
      "[[1. 1. 1. 1. 1.]\n",
      " [1. 1. 1. 1. 1.]\n",
      " [1. 1. 1. 1. 1.]\n",
      " [1. 1. 1. 1. 1.]]\n"
     ]
    }
   ],
   "source": [
    "#ones Array\n",
    "ones = np.ones((4,5))\n",
    "print(f\"Ones Array are :\\n{ones}\")"
   ]
  },
  {
   "cell_type": "code",
   "execution_count": 75,
   "id": "c0a4e934",
   "metadata": {},
   "outputs": [
    {
     "name": "stdout",
     "output_type": "stream",
     "text": [
      "Twos Array are :\n",
      "[[2 2 2]\n",
      " [2 2 2]\n",
      " [2 2 2]]\n"
     ]
    }
   ],
   "source": [
    "#Twos Array or also for any constant value\n",
    "twos = np.full((3,3,), 2)\n",
    "print(f\"Twos Array are :\\n{twos}\")"
   ]
  },
  {
   "cell_type": "code",
   "execution_count": 76,
   "id": "7c409ca8",
   "metadata": {},
   "outputs": [
    {
     "name": "stdout",
     "output_type": "stream",
     "text": [
      "Random integers:\n",
      "[[74 48 96 83  2 68 62 85 43 15]\n",
      " [91 56 31 75 80 70  5 64  0 16]]\n"
     ]
    }
   ],
   "source": [
    "import numpy as np\n",
    "\n",
    "random = np.random.randint(0, 100, size=(2, 10))  # Random integers from 0 to 99\n",
    "print(f\"Random integers:\\n{random}\")\n"
   ]
  },
  {
   "cell_type": "code",
   "execution_count": 77,
   "id": "eec17918",
   "metadata": {},
   "outputs": [
    {
     "name": "stdout",
     "output_type": "stream",
     "text": [
      "Sequence Array are :\n",
      "[ 0  2  4  6  8 10 12 14 16 18]\n"
     ]
    }
   ],
   "source": [
    "#sequencw Array\n",
    "sequence = np.arange(0,20,2)\n",
    "print(f\"Sequence Array are :\\n{sequence}\")"
   ]
  },
  {
   "cell_type": "markdown",
   "id": "38151f8f",
   "metadata": {},
   "source": [
    "##Vector, Matrix and Tensor"
   ]
  },
  {
   "cell_type": "code",
   "execution_count": null,
   "id": "56b737b4",
   "metadata": {},
   "outputs": [],
   "source": []
  },
  {
   "cell_type": "code",
   "execution_count": 78,
   "id": "ada237d7",
   "metadata": {},
   "outputs": [
    {
     "name": "stdout",
     "output_type": "stream",
     "text": [
      "flat array or vector is :\n",
      " [ 1  2  3  4  5  6  6  7  8  9 10]\n"
     ]
    }
   ],
   "source": [
    "#vectors are flat arrays and 1D arrays\n",
    "vectors = np.array([1,2,3,4,5,6,6,7,8,9,10])\n",
    "print(\"flat array or vector is :\\n\", vectors)"
   ]
  },
  {
   "cell_type": "code",
   "execution_count": 79,
   "id": "8bbb7d94",
   "metadata": {},
   "outputs": [
    {
     "name": "stdout",
     "output_type": "stream",
     "text": [
      "Matrix is :\n",
      "[[1 2 3]\n",
      " [4 5 6]]\n",
      "Shape of Matrix is :\n",
      "(2, 3)\n",
      "Size of Matrix is :\n",
      "6\n",
      "Dimension of Matrix is :\n",
      "2\n",
      "Data type of Matrix is :\n",
      "int64\n"
     ]
    }
   ],
   "source": [
    "#Matrix can be 2D arrays\n",
    "matrix = np.array([[1,2,3],[4,5,6]])\n",
    "print(f\"Matrix is :\\n{matrix}\")\n",
    "print(f\"Shape of Matrix is :\\n{matrix.shape}\")\n",
    "print(f\"Size of Matrix is :\\n{matrix.size}\")\n",
    "print(f\"Dimension of Matrix is :\\n{matrix.ndim}\")\n",
    "print(f\"Data type of Matrix is :\\n{matrix.dtype}\")"
   ]
  },
  {
   "cell_type": "code",
   "execution_count": 80,
   "id": "0a77590c",
   "metadata": {},
   "outputs": [
    {
     "name": "stdout",
     "output_type": "stream",
     "text": [
      "Tensor array is : [[[1 2 3]\n",
      "  [3 2 1]\n",
      "  [5 6 7]]\n",
      "\n",
      " [[8 7 6]\n",
      "  [4 5 6]\n",
      "  [1 2 3]]]\n",
      "Dimension of the Tensor array is : [[[1 2 3]\n",
      "  [3 2 1]\n",
      "  [5 6 7]]\n",
      "\n",
      " [[8 7 6]\n",
      "  [4 5 6]\n",
      "  [1 2 3]]]\n"
     ]
    }
   ],
   "source": [
    "#Tensor can be 3D arrays or more than 3D upto 32 dimensions\n",
    "tensor = np.array([[[1,2,3],[3,2,1,],[5,6,7]],[[8,7,6],[4,5,6],[1,2,3]]])\n",
    "print(f\"Tensor array is : {tensor}\")\n",
    "print(f\"Dimension of the Tensor array is : {tensor}\")\n"
   ]
  },
  {
   "cell_type": "markdown",
   "id": "618e347f",
   "metadata": {},
   "source": [
    "##Array Properties "
   ]
  },
  {
   "cell_type": "code",
   "execution_count": 81,
   "id": "63badfba",
   "metadata": {},
   "outputs": [
    {
     "name": "stdout",
     "output_type": "stream",
     "text": [
      "Shape of the array is :(2, 3)\n",
      "Dimensions of the Array is : 2\n",
      "Size of the Array is : 6\n",
      "Data type of the array is : int64\n",
      "<class 'numpy.ndarray'>\n"
     ]
    }
   ],
   "source": [
    "arr = np.array([[1,2,3],[4,5,6]])\n",
    "#shape property show us the number of rows and coloumn\n",
    "print(f\"Shape of the array is :{arr.shape}\")\n",
    "#ndim property show us the dimensions \n",
    "print(f\"Dimensions of the Array is : {arr.ndim}\")\n",
    "#Size of the Array is \n",
    "print(f\"Size of the Array is : {arr.size}\")\n",
    "#Data Type of the array is :\n",
    "print(f\"Data type of the array is : {arr.dtype}\")\n",
    "#Type method will show us the type of the array\n",
    "print(type(arr))"
   ]
  },
  {
   "cell_type": "markdown",
   "id": "86531267",
   "metadata": {},
   "source": [
    "##Arrays Shapping and Reshapping"
   ]
  },
  {
   "cell_type": "code",
   "execution_count": 82,
   "id": "b93e2863",
   "metadata": {},
   "outputs": [
    {
     "name": "stdout",
     "output_type": "stream",
     "text": [
      "[ 0  1  2  3  4  5  6  7  8  9 10 11]\n",
      "Array in the form of rows and coloumns : \n",
      "[[ 0  1  2  3]\n",
      " [ 4  5  6  7]\n",
      " [ 8  9 10 11]]\n",
      "Flattened array is : [ 0  1  2  3  4  5  6  7  8  9 10 11]\n",
      "Convert the array into flattened by ravel method : [ 0  1  2  3  4  5  6  7  8  9 10 11] \n"
     ]
    }
   ],
   "source": [
    "arr = np.arange(12)\n",
    "print(arr)\n",
    "#method reshape is used to convert these array into rows and coloumns\n",
    "print(f\"Array in the form of rows and coloumns : \\n{arr.reshape(3,4)}\")\n",
    "#method flattened is used to convert the rows and coloumns into flattened array\n",
    "print(f\"Flattened array is : {arr.flatten()}\")\n",
    "#ravel method is also used to convert the dimensional array into flattened\n",
    "print(f\"Convert the array into flattened by ravel method : {arr.ravel()} \")\n",
    "#but the difference between the ravel() and flatten() is ravel effect the original but flatten make copy"
   ]
  },
  {
   "cell_type": "code",
   "execution_count": 83,
   "id": "ba2ae61c",
   "metadata": {},
   "outputs": [
    {
     "name": "stdout",
     "output_type": "stream",
     "text": [
      "Original Array is : \n",
      "[[1 2 3]\n",
      " [5 4 3]]\n",
      "Rows and Coloumn of the original array is :\n",
      "(2, 3)\n",
      "Transpose of the Array is : \n",
      "[[1 5]\n",
      " [2 4]\n",
      " [3 3]]\n",
      "Rows and Coloumn of the Transpose array is :\n",
      "(3, 2)\n"
     ]
    }
   ],
   "source": [
    "##Transpose of the array using methods\n",
    "arr = np.array([[1,2,3],[5,4,3]])\n",
    "transpose_arr = arr.T\n",
    "print(f\"Original Array is : \\n{arr}\")\n",
    "print(f\"Rows and Coloumn of the original array is :\\n{arr.shape}\")\n",
    "print(f\"Transpose of the Array is : \\n{transpose_arr}\")\n",
    "print(f\"Rows and Coloumn of the Transpose array is :\\n{transpose_arr.shape}\")"
   ]
  }
 ],
 "metadata": {
  "kernelspec": {
   "display_name": "Python 3",
   "language": "python",
   "name": "python3"
  },
  "language_info": {
   "codemirror_mode": {
    "name": "ipython",
    "version": 3
   },
   "file_extension": ".py",
   "mimetype": "text/x-python",
   "name": "python",
   "nbconvert_exporter": "python",
   "pygments_lexer": "ipython3",
   "version": "3.13.5"
  }
 },
 "nbformat": 4,
 "nbformat_minor": 5
}
